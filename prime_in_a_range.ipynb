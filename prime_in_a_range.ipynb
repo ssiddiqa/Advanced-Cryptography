{
  "nbformat": 4,
  "nbformat_minor": 0,
  "metadata": {
    "colab": {
      "provenance": [],
      "authorship_tag": "ABX9TyPEPy0cqKlErTLZFtgga+k+",
      "include_colab_link": true
    },
    "kernelspec": {
      "name": "python3",
      "display_name": "Python 3"
    },
    "language_info": {
      "name": "python"
    }
  },
  "cells": [
    {
      "cell_type": "markdown",
      "metadata": {
        "id": "view-in-github",
        "colab_type": "text"
      },
      "source": [
        "<a href=\"https://colab.research.google.com/github/ssiddiqa/Advanced-Cryptography/blob/main/prime_in_a_range.ipynb\" target=\"_parent\"><img src=\"https://colab.research.google.com/assets/colab-badge.svg\" alt=\"Open In Colab\"/></a>"
      ]
    },
    {
      "cell_type": "code",
      "execution_count": 3,
      "metadata": {
        "id": "bDiPgvQyP67d"
      },
      "outputs": [],
      "source": [
        "import csv\n",
        "\n",
        "def sieve(n):\n",
        "    prime = [True] * (n + 1)\n",
        "    prime[0] = prime[1] = False\n",
        "    p = 2\n",
        "\n",
        "    while p * p <= n:\n",
        "        if prime[p]:\n",
        "            for i in range(p * p, n + 1, p):\n",
        "                prime[i] = False\n",
        "        p += 1\n",
        "\n",
        "    res = []\n",
        "    for p in range(2, n + 1):\n",
        "        if prime[p]:\n",
        "            res.append(p)\n",
        "\n",
        "    return res\n",
        "\n",
        "test_cases = []\n",
        "with open('input.csv', 'r') as file:\n",
        "    reader = csv.reader(file)\n",
        "    for row in reader:\n",
        "        test_cases.append(int(row[0]))\n",
        "\n",
        "prime_lists = []\n",
        "for n in test_cases:\n",
        "    prime_lists.append(sieve(n))\n",
        "\n",
        "with open('output.csv', 'w', newline='') as file:\n",
        "    writer = csv.writer(file)\n",
        "    for primes in prime_lists:\n",
        "        writer.writerow([' '.join(map(str, primes))])"
      ]
    }
  ]
}